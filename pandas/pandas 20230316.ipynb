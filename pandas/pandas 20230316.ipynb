{
 "cells": [
  {
   "cell_type": "code",
   "execution_count": 1,
   "id": "8fcb1df3",
   "metadata": {},
   "outputs": [],
   "source": [
    "import pandas as pd\n",
    "#panel dates 약자 "
   ]
  },
  {
   "cell_type": "code",
   "execution_count": 2,
   "id": "ad8d50b4",
   "metadata": {},
   "outputs": [],
   "source": [
    "dict_data = {'a':1, 'b':2 , 'c':3}\n",
    "sr = pd.Series(dict_data)"
   ]
  },
  {
   "cell_type": "code",
   "execution_count": 3,
   "id": "58bb6e53",
   "metadata": {},
   "outputs": [
    {
     "name": "stdout",
     "output_type": "stream",
     "text": [
      "a    1\n",
      "b    2\n",
      "c    3\n",
      "dtype: int64\n"
     ]
    }
   ],
   "source": [
    "print(sr)"
   ]
  },
  {
   "cell_type": "code",
   "execution_count": 4,
   "id": "983ed779",
   "metadata": {},
   "outputs": [
    {
     "name": "stdout",
     "output_type": "stream",
     "text": [
      "<class 'pandas.core.series.Series'>\n"
     ]
    }
   ],
   "source": [
    "print(type(sr))"
   ]
  },
  {
   "cell_type": "code",
   "execution_count": 5,
   "id": "4c09b411",
   "metadata": {},
   "outputs": [
    {
     "name": "stdout",
     "output_type": "stream",
     "text": [
      "<class 'dict'>\n"
     ]
    }
   ],
   "source": [
    "print(type(dict_data))"
   ]
  },
  {
   "cell_type": "code",
   "execution_count": 6,
   "id": "1224819c",
   "metadata": {},
   "outputs": [],
   "source": [
    "list_data = ['2018-01-01',3.14,'abc',100,True]\n",
    "sr_list = pd.Series(list_data)"
   ]
  },
  {
   "cell_type": "code",
   "execution_count": 7,
   "id": "092aa383",
   "metadata": {},
   "outputs": [
    {
     "name": "stdout",
     "output_type": "stream",
     "text": [
      "0    2018-01-01\n",
      "1          3.14\n",
      "2           abc\n",
      "3           100\n",
      "4          True\n",
      "dtype: object\n"
     ]
    }
   ],
   "source": [
    "print(sr_list)"
   ]
  },
  {
   "cell_type": "code",
   "execution_count": 10,
   "id": "43e5dab6",
   "metadata": {},
   "outputs": [
    {
     "name": "stdout",
     "output_type": "stream",
     "text": [
      "RangeIndex(start=0, stop=5, step=1)\n"
     ]
    }
   ],
   "source": [
    "idx = sr_list.index\n",
    "val = sr_list.values\n",
    "print(idx)"
   ]
  },
  {
   "cell_type": "code",
   "execution_count": 11,
   "id": "b4e1bffd",
   "metadata": {},
   "outputs": [
    {
     "name": "stdout",
     "output_type": "stream",
     "text": [
      "['2018-01-01' 3.14 'abc' 100 True]\n"
     ]
    }
   ],
   "source": [
    "print(val)"
   ]
  },
  {
   "cell_type": "code",
   "execution_count": 15,
   "id": "67a86f6b",
   "metadata": {},
   "outputs": [],
   "source": [
    "tup_data = ('영인','2010-05-01','여',True)\n",
    "sr_tup = pd.Series(tup_data, index=['이름','생년월일','성별','학생여부'])\n",
    "#### index 값으로 key를 지정할 수 있다. "
   ]
  },
  {
   "cell_type": "code",
   "execution_count": 16,
   "id": "9e1deeae",
   "metadata": {
    "scrolled": false
   },
   "outputs": [
    {
     "data": {
      "text/plain": [
       "이름              영인\n",
       "생년월일    2010-05-01\n",
       "성별               여\n",
       "학생여부          True\n",
       "dtype: object"
      ]
     },
     "execution_count": 16,
     "metadata": {},
     "output_type": "execute_result"
    }
   ],
   "source": [
    "sr_tup"
   ]
  },
  {
   "cell_type": "code",
   "execution_count": 18,
   "id": "fb15a082",
   "metadata": {},
   "outputs": [
    {
     "name": "stdout",
     "output_type": "stream",
     "text": [
      "영인\n"
     ]
    }
   ],
   "source": [
    "print(sr_tup[0])"
   ]
  },
  {
   "cell_type": "code",
   "execution_count": 19,
   "id": "bc2381b3",
   "metadata": {},
   "outputs": [
    {
     "name": "stdout",
     "output_type": "stream",
     "text": [
      "영인\n"
     ]
    }
   ],
   "source": [
    "print(sr_tup['이름'])"
   ]
  },
  {
   "cell_type": "code",
   "execution_count": 23,
   "id": "6819fb3a",
   "metadata": {},
   "outputs": [
    {
     "name": "stdout",
     "output_type": "stream",
     "text": [
      "생년월일    2010-05-01\n",
      "성별               여\n",
      "dtype: object\n"
     ]
    }
   ],
   "source": [
    "print(sr_tup[[1,2]])"
   ]
  },
  {
   "cell_type": "code",
   "execution_count": 24,
   "id": "05215f4c",
   "metadata": {},
   "outputs": [
    {
     "name": "stdout",
     "output_type": "stream",
     "text": [
      "생년월일    2010-05-01\n",
      "성별               여\n",
      "dtype: object\n"
     ]
    }
   ],
   "source": [
    "print(sr_tup[['생년월일','성별']])"
   ]
  },
  {
   "cell_type": "code",
   "execution_count": 25,
   "id": "606c1131",
   "metadata": {},
   "outputs": [],
   "source": [
    "#9904312, 3448737, 280451, 2466052\n",
    "#서울 , 부산 , 인천, 대구"
   ]
  },
  {
   "cell_type": "code",
   "execution_count": 27,
   "id": "6634f5f0",
   "metadata": {},
   "outputs": [
    {
     "data": {
      "text/plain": [
       "0    9904312\n",
       "1    3448737\n",
       "2     280451\n",
       "3    2466052\n",
       "dtype: int64"
      ]
     },
     "execution_count": 27,
     "metadata": {},
     "output_type": "execute_result"
    }
   ],
   "source": [
    "sr_reg = [9904312, 3448737, 280451, 2466052]\n",
    "pd.Series(sr_reg)"
   ]
  },
  {
   "cell_type": "code",
   "execution_count": 28,
   "id": "ae920d69",
   "metadata": {},
   "outputs": [],
   "source": [
    "tup_reg = (9904312, 3448737, 280451, 2466052)\n",
    "sr_reg = pd.Series(tup_reg, index=['서울','부산','인천','대구'])"
   ]
  },
  {
   "cell_type": "code",
   "execution_count": 29,
   "id": "99928ffc",
   "metadata": {},
   "outputs": [
    {
     "data": {
      "text/plain": [
       "서울    9904312\n",
       "부산    3448737\n",
       "인천     280451\n",
       "대구    2466052\n",
       "dtype: int64"
      ]
     },
     "execution_count": 29,
     "metadata": {},
     "output_type": "execute_result"
    }
   ],
   "source": [
    "sr_reg"
   ]
  },
  {
   "cell_type": "code",
   "execution_count": 36,
   "id": "7c04ec51",
   "metadata": {},
   "outputs": [
    {
     "name": "stdout",
     "output_type": "stream",
     "text": [
      "부산    3448737\n",
      "dtype: int64\n"
     ]
    }
   ],
   "source": [
    "print(sr_reg[[1]])"
   ]
  },
  {
   "cell_type": "code",
   "execution_count": 38,
   "id": "1b60890f",
   "metadata": {},
   "outputs": [
    {
     "name": "stdout",
     "output_type": "stream",
     "text": [
      "부산    3448737\n",
      "dtype: int64\n"
     ]
    }
   ],
   "source": [
    "print(sr_reg[['부산']])"
   ]
  },
  {
   "cell_type": "code",
   "execution_count": 40,
   "id": "73eaeef5",
   "metadata": {},
   "outputs": [
    {
     "name": "stdout",
     "output_type": "stream",
     "text": [
      "3448737 3448737\n"
     ]
    }
   ],
   "source": [
    "print(sr_reg[1],sr_reg['부산'])"
   ]
  },
  {
   "cell_type": "code",
   "execution_count": 43,
   "id": "8f1d2a50",
   "metadata": {},
   "outputs": [
    {
     "name": "stdout",
     "output_type": "stream",
     "text": [
      "부산    3448737\n",
      "대구    2466052\n",
      "dtype: int64 서울    9904312\n",
      "부산    3448737\n",
      "dtype: int64\n"
     ]
    }
   ],
   "source": [
    "print(sr_reg[[1,3]], sr_reg[['서울','부산']])"
   ]
  },
  {
   "cell_type": "code",
   "execution_count": 45,
   "id": "05ec69ee",
   "metadata": {},
   "outputs": [
    {
     "name": "stdout",
     "output_type": "stream",
     "text": [
      "key는a이고 value는 1다\n",
      "key는b이고 value는 2다\n",
      "key는c이고 value는 3다\n"
     ]
    }
   ],
   "source": [
    "for key , value in sr.items():\n",
    "    print(f'key는{key}이고 value는 {value}다')"
   ]
  },
  {
   "cell_type": "code",
   "execution_count": 46,
   "id": "1d83fb7e",
   "metadata": {},
   "outputs": [
    {
     "data": {
      "text/plain": [
       "a    0.000001\n",
       "b    0.000002\n",
       "c    0.000003\n",
       "dtype: float64"
      ]
     },
     "execution_count": 46,
     "metadata": {},
     "output_type": "execute_result"
    }
   ],
   "source": [
    "#series는 numpy 1차원 배열로 변환된다.\n",
    "sr/1000000"
   ]
  },
  {
   "cell_type": "code",
   "execution_count": 51,
   "id": "887747c6",
   "metadata": {},
   "outputs": [],
   "source": [
    "#dirc_sr = {'서울':999999, '부산':99999}\n",
    "#dict_sr/1000      series는 계산이 안됨"
   ]
  },
  {
   "cell_type": "code",
   "execution_count": 55,
   "id": "e449d28d",
   "metadata": {},
   "outputs": [
    {
     "data": {
      "text/plain": [
       "서울    9631482\n",
       "부산    3393191\n",
       "인천    2632035\n",
       "대전    1490158\n",
       "dtype: int64"
      ]
     },
     "execution_count": 55,
     "metadata": {},
     "output_type": "execute_result"
    }
   ],
   "source": [
    "sr2 = pd.Series({'서울':9631482,'부산':3393191,'인천':2632035,'대전':1490158})\n",
    "sr2"
   ]
  },
  {
   "cell_type": "code",
   "execution_count": 56,
   "id": "319e4d0e",
   "metadata": {},
   "outputs": [
    {
     "data": {
      "text/plain": [
       "서울    9631482\n",
       "부산    3448737\n",
       "인천    2890451\n",
       "대구    2466052\n",
       "dtype: int64"
      ]
     },
     "execution_count": 56,
     "metadata": {},
     "output_type": "execute_result"
    }
   ],
   "source": [
    "sr = pd.Series([9631482,3448737,2890451,2466052], index=['서울','부산','인천','대구']) \n",
    "sr"
   ]
  },
  {
   "cell_type": "code",
   "execution_count": 65,
   "id": "2d05b805",
   "metadata": {},
   "outputs": [
    {
     "data": {
      "text/plain": [
       "대구         NaN\n",
       "대전         NaN\n",
       "부산     55546.0\n",
       "서울         0.0\n",
       "인천    258416.0\n",
       "dtype: float64"
      ]
     },
     "execution_count": 65,
     "metadata": {},
     "output_type": "execute_result"
    }
   ],
   "source": [
    "#인덱스 값이 다른 데이터는 연산이 되지만 잘안됨\n",
    "#연산이 안되는 것의 결과는 NaN(Not a Number, 결측치)\n",
    "# np.NaN 데이터 타입은 실수 float\n",
    "ds = sr-sr2\n",
    "ds"
   ]
  },
  {
   "cell_type": "code",
   "execution_count": 63,
   "id": "28b0b32b",
   "metadata": {},
   "outputs": [
    {
     "data": {
      "text/plain": [
       "(Index(['서울', '부산', '인천', '대구'], dtype='object'),\n",
       " array([9631482, 3448737, 2890451, 2466052], dtype=int64))"
      ]
     },
     "execution_count": 63,
     "metadata": {},
     "output_type": "execute_result"
    }
   ],
   "source": [
    "sr.index, sr.values"
   ]
  },
  {
   "cell_type": "code",
   "execution_count": 67,
   "id": "b7e24a2d",
   "metadata": {},
   "outputs": [
    {
     "data": {
      "text/plain": [
       "4"
      ]
     },
     "execution_count": 67,
     "metadata": {},
     "output_type": "execute_result"
    }
   ],
   "source": [
    "#element 갯수를 세는 method\n",
    "sr.count()"
   ]
  },
  {
   "cell_type": "code",
   "execution_count": 68,
   "id": "96c60b82",
   "metadata": {},
   "outputs": [
    {
     "data": {
      "text/plain": [
       "4"
      ]
     },
     "execution_count": 68,
     "metadata": {},
     "output_type": "execute_result"
    }
   ],
   "source": [
    "sr2.count()"
   ]
  },
  {
   "cell_type": "code",
   "execution_count": 72,
   "id": "e5c44985",
   "metadata": {},
   "outputs": [
    {
     "data": {
      "text/plain": [
       "3"
      ]
     },
     "execution_count": 72,
     "metadata": {},
     "output_type": "execute_result"
    }
   ],
   "source": [
    "ds.count()    ### NaN은 COUNT 되지 않는다. "
   ]
  },
  {
   "cell_type": "code",
   "execution_count": 70,
   "id": "2dd31f42",
   "metadata": {},
   "outputs": [
    {
     "data": {
      "text/plain": [
       "9631482    1\n",
       "3448737    1\n",
       "2890451    1\n",
       "2466052    1\n",
       "dtype: int64"
      ]
     },
     "execution_count": 70,
     "metadata": {},
     "output_type": "execute_result"
    }
   ],
   "source": [
    "#카테고리의 값 세는 method   # 성별이나 연령대 count 시 유용함 \n",
    "sr.value_counts()   "
   ]
  },
  {
   "cell_type": "code",
   "execution_count": 73,
   "id": "f4513a44",
   "metadata": {},
   "outputs": [
    {
     "name": "stdout",
     "output_type": "stream",
     "text": [
      "Collecting seaborn\n",
      "  Downloading seaborn-0.12.2-py3-none-any.whl (293 kB)\n",
      "     ---------------------------------------- 0.0/293.3 kB ? eta -:--:--\n",
      "     ------------------------------------- 293.3/293.3 kB 17.7 MB/s eta 0:00:00\n",
      "Requirement already satisfied: matplotlib!=3.6.1,>=3.1 in c:\\python38\\lib\\site-packages (from seaborn) (3.7.1)\n",
      "Requirement already satisfied: numpy!=1.24.0,>=1.17 in c:\\python38\\lib\\site-packages (from seaborn) (1.24.2)\n",
      "Requirement already satisfied: pandas>=0.25 in c:\\python38\\lib\\site-packages (from seaborn) (1.5.3)\n",
      "Requirement already satisfied: fonttools>=4.22.0 in c:\\python38\\lib\\site-packages (from matplotlib!=3.6.1,>=3.1->seaborn) (4.39.0)\n",
      "Requirement already satisfied: kiwisolver>=1.0.1 in c:\\python38\\lib\\site-packages (from matplotlib!=3.6.1,>=3.1->seaborn) (1.4.4)\n",
      "Requirement already satisfied: packaging>=20.0 in c:\\python38\\lib\\site-packages (from matplotlib!=3.6.1,>=3.1->seaborn) (23.0)\n",
      "Requirement already satisfied: pyparsing>=2.3.1 in c:\\python38\\lib\\site-packages (from matplotlib!=3.6.1,>=3.1->seaborn) (3.0.9)\n",
      "Requirement already satisfied: pillow>=6.2.0 in c:\\python38\\lib\\site-packages (from matplotlib!=3.6.1,>=3.1->seaborn) (9.4.0)\n",
      "Requirement already satisfied: python-dateutil>=2.7 in c:\\python38\\lib\\site-packages (from matplotlib!=3.6.1,>=3.1->seaborn) (2.8.2)\n",
      "Requirement already satisfied: importlib-resources>=3.2.0 in c:\\python38\\lib\\site-packages (from matplotlib!=3.6.1,>=3.1->seaborn) (5.12.0)\n",
      "Requirement already satisfied: cycler>=0.10 in c:\\python38\\lib\\site-packages (from matplotlib!=3.6.1,>=3.1->seaborn) (0.11.0)\n",
      "Requirement already satisfied: contourpy>=1.0.1 in c:\\python38\\lib\\site-packages (from matplotlib!=3.6.1,>=3.1->seaborn) (1.0.7)\n",
      "Requirement already satisfied: pytz>=2020.1 in c:\\python38\\lib\\site-packages (from pandas>=0.25->seaborn) (2022.7.1)\n",
      "Requirement already satisfied: zipp>=3.1.0 in c:\\python38\\lib\\site-packages (from importlib-resources>=3.2.0->matplotlib!=3.6.1,>=3.1->seaborn) (3.15.0)\n",
      "Requirement already satisfied: six>=1.5 in c:\\python38\\lib\\site-packages (from python-dateutil>=2.7->matplotlib!=3.6.1,>=3.1->seaborn) (1.16.0)\n",
      "Installing collected packages: seaborn\n",
      "Successfully installed seaborn-0.12.2\n"
     ]
    }
   ],
   "source": [
    "# 값을 세는 method 예시  (실제 data)\n",
    "!pip install seaborn"
   ]
  },
  {
   "cell_type": "code",
   "execution_count": 76,
   "id": "7d2f336e",
   "metadata": {},
   "outputs": [
    {
     "name": "stdout",
     "output_type": "stream",
     "text": [
      "     sepal_length  sepal_width  petal_length  petal_width    species\n",
      "0             5.1          3.5           1.4          0.2     setosa\n",
      "1             4.9          3.0           1.4          0.2     setosa\n",
      "2             4.7          3.2           1.3          0.2     setosa\n",
      "3             4.6          3.1           1.5          0.2     setosa\n",
      "4             5.0          3.6           1.4          0.2     setosa\n",
      "..            ...          ...           ...          ...        ...\n",
      "145           6.7          3.0           5.2          2.3  virginica\n",
      "146           6.3          2.5           5.0          1.9  virginica\n",
      "147           6.5          3.0           5.2          2.0  virginica\n",
      "148           6.2          3.4           5.4          2.3  virginica\n",
      "149           5.9          3.0           5.1          1.8  virginica\n",
      "\n",
      "[150 rows x 5 columns]\n"
     ]
    }
   ],
   "source": [
    "import seaborn as sns\n",
    "iris = sns.load_dataset('iris')\n",
    "print(iris)"
   ]
  },
  {
   "cell_type": "code",
   "execution_count": 77,
   "id": "dc52efdd",
   "metadata": {},
   "outputs": [
    {
     "data": {
      "text/plain": [
       "sepal_length  sepal_width  petal_length  petal_width  species   \n",
       "5.8           2.7          5.1           1.9          virginica     2\n",
       "6.2           2.2          4.5           1.5          versicolor    1\n",
       "              2.9          4.3           1.3          versicolor    1\n",
       "              3.4          5.4           2.3          virginica     1\n",
       "6.3           2.3          4.4           1.3          versicolor    1\n",
       "                                                                   ..\n",
       "5.4           3.9          1.3           0.4          setosa        1\n",
       "                           1.7           0.4          setosa        1\n",
       "5.5           2.3          4.0           1.3          versicolor    1\n",
       "              2.4          3.7           1.0          versicolor    1\n",
       "7.9           3.8          6.4           2.0          virginica     1\n",
       "Length: 149, dtype: int64"
      ]
     },
     "execution_count": 77,
     "metadata": {},
     "output_type": "execute_result"
    }
   ],
   "source": [
    "iris.value_counts()  "
   ]
  },
  {
   "cell_type": "code",
   "execution_count": 79,
   "id": "a9aa8146",
   "metadata": {},
   "outputs": [
    {
     "data": {
      "text/plain": [
       "setosa        50\n",
       "versicolor    50\n",
       "virginica     50\n",
       "Name: species, dtype: int64"
      ]
     },
     "execution_count": 79,
     "metadata": {},
     "output_type": "execute_result"
    }
   ],
   "source": [
    "iris['species'].value_counts()  "
   ]
  },
  {
   "cell_type": "code",
   "execution_count": 80,
   "id": "926dacf0",
   "metadata": {},
   "outputs": [
    {
     "data": {
      "text/plain": [
       "5.0    10\n",
       "5.1     9\n",
       "6.3     9\n",
       "5.7     8\n",
       "6.7     8\n",
       "5.8     7\n",
       "5.5     7\n",
       "6.4     7\n",
       "4.9     6\n",
       "5.4     6\n",
       "6.1     6\n",
       "6.0     6\n",
       "5.6     6\n",
       "4.8     5\n",
       "6.5     5\n",
       "6.2     4\n",
       "7.7     4\n",
       "6.9     4\n",
       "4.6     4\n",
       "5.2     4\n",
       "5.9     3\n",
       "4.4     3\n",
       "7.2     3\n",
       "6.8     3\n",
       "6.6     2\n",
       "4.7     2\n",
       "7.6     1\n",
       "7.4     1\n",
       "7.3     1\n",
       "7.0     1\n",
       "7.1     1\n",
       "5.3     1\n",
       "4.3     1\n",
       "4.5     1\n",
       "7.9     1\n",
       "Name: sepal_length, dtype: int64"
      ]
     },
     "execution_count": 80,
     "metadata": {},
     "output_type": "execute_result"
    }
   ],
   "source": [
    "iris['sepal_length'].value_counts()  "
   ]
  },
  {
   "cell_type": "code",
   "execution_count": 81,
   "id": "4c55bdf4",
   "metadata": {},
   "outputs": [
    {
     "data": {
      "text/plain": [
       "array(['setosa', 'versicolor', 'virginica'], dtype=object)"
      ]
     },
     "execution_count": 81,
     "metadata": {},
     "output_type": "execute_result"
    }
   ],
   "source": [
    "#카테고리형 자료의 종류의 갯수를 알 수 있는 코드\n",
    "iris['species'].unique()"
   ]
  },
  {
   "cell_type": "code",
   "execution_count": 84,
   "id": "06553b34",
   "metadata": {},
   "outputs": [
    {
     "data": {
      "text/plain": [
       "(18436722, 4609180.5)"
      ]
     },
     "execution_count": 84,
     "metadata": {},
     "output_type": "execute_result"
    }
   ],
   "source": [
    "#인구데이터  도시 인구 합 , 평균\n",
    "sr.sum() , sr.mean()"
   ]
  },
  {
   "cell_type": "raw",
   "id": "b9a933c4",
   "metadata": {},
   "source": [
    "#정렬메소드  #default sscending true ->오름차순 "
   ]
  },
  {
   "cell_type": "code",
   "execution_count": 85,
   "id": "6dd5552e",
   "metadata": {},
   "outputs": [
    {
     "data": {
      "text/plain": [
       "서울    9631482\n",
       "부산    3448737\n",
       "인천    2890451\n",
       "대구    2466052\n",
       "dtype: int64"
      ]
     },
     "execution_count": 85,
     "metadata": {},
     "output_type": "execute_result"
    }
   ],
   "source": [
    "sr.sort_values(ascending=False)"
   ]
  },
  {
   "cell_type": "code",
   "execution_count": 86,
   "id": "6ac3fd07",
   "metadata": {},
   "outputs": [
    {
     "data": {
      "text/plain": [
       "대구    2466052\n",
       "인천    2890451\n",
       "부산    3448737\n",
       "서울    9631482\n",
       "dtype: int64"
      ]
     },
     "execution_count": 86,
     "metadata": {},
     "output_type": "execute_result"
    }
   ],
   "source": [
    "sr.sort_values()"
   ]
  },
  {
   "cell_type": "code",
   "execution_count": null,
   "id": "4842e2a1",
   "metadata": {},
   "outputs": [],
   "source": []
  }
 ],
 "metadata": {
  "kernelspec": {
   "display_name": "Python 3 (ipykernel)",
   "language": "python",
   "name": "python3"
  },
  "language_info": {
   "codemirror_mode": {
    "name": "ipython",
    "version": 3
   },
   "file_extension": ".py",
   "mimetype": "text/x-python",
   "name": "python",
   "nbconvert_exporter": "python",
   "pygments_lexer": "ipython3",
   "version": "3.8.7"
  }
 },
 "nbformat": 4,
 "nbformat_minor": 5
}
