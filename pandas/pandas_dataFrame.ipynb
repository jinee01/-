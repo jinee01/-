{
 "cells": [
  {
   "cell_type": "code",
   "execution_count": 1,
   "id": "88d0212b",
   "metadata": {},
   "outputs": [],
   "source": [
    "import pandas as pd"
   ]
  },
  {
   "cell_type": "code",
   "execution_count": 2,
   "id": "511d86a0",
   "metadata": {},
   "outputs": [],
   "source": [
    "# 열이름을 key, 리스트를 value로 갖는 딕셔너리의 정의 (2차원 배열)\n",
    "dict_data = {'c0':[1,2,3],'c1':[4,5,6],'c2':[7,8,9],'c3':[10,11,12],'c4':[13,14,15]}\n",
    "df = pd.DataFrame(dict_data)"
   ]
  },
  {
   "cell_type": "code",
   "execution_count": 3,
   "id": "de767266",
   "metadata": {},
   "outputs": [
    {
     "name": "stdout",
     "output_type": "stream",
     "text": [
      "   c0  c1  c2  c3  c4\n",
      "0   1   4   7  10  13\n",
      "1   2   5   8  11  14\n",
      "2   3   6   9  12  15\n",
      "<class 'pandas.core.frame.DataFrame'>\n"
     ]
    }
   ],
   "source": [
    "print(df)\n",
    "print(type(df))"
   ]
  },
  {
   "cell_type": "code",
   "execution_count": 6,
   "id": "8d57549d",
   "metadata": {},
   "outputs": [
    {
     "name": "stdout",
     "output_type": "stream",
     "text": [
      "    나이 성별   학교\n",
      "준서  15  남  신촌중\n",
      "예은  17  여  연세중\n"
     ]
    },
    {
     "ename": "NameError",
     "evalue": "name 'index' is not defined",
     "output_type": "error",
     "traceback": [
      "\u001b[1;31m---------------------------------------------------------------------------\u001b[0m",
      "\u001b[1;31mNameError\u001b[0m                                 Traceback (most recent call last)",
      "Cell \u001b[1;32mIn[6], line 6\u001b[0m\n\u001b[0;32m      4\u001b[0m \u001b[38;5;66;03m#행 인덱스, 열이름 확인하기 \u001b[39;00m\n\u001b[0;32m      5\u001b[0m \u001b[38;5;28mprint\u001b[39m(df)\n\u001b[1;32m----> 6\u001b[0m \u001b[38;5;28mprint\u001b[39m(df,\u001b[43mindex\u001b[49m)\n\u001b[0;32m      7\u001b[0m \u001b[38;5;28mprint\u001b[39m(df\u001b[38;5;241m.\u001b[39mcolumns)\n",
      "\u001b[1;31mNameError\u001b[0m: name 'index' is not defined"
     ]
    }
   ],
   "source": [
    "#리스트에 행인덱스 열 이름을 지정하여 데이터 프레임 만들기 \n",
    "df = pd.DataFrame([[15,'남','신촌중'],[17,'여','연세중']],\n",
    "index = ['준서','예은'], columns =['나이','성별','학교'])\n",
    "#행 인덱스, 열이름 확인하기 \n",
    "print(df)\n",
    "print(df,index =)\n",
    "print(df.columns)"
   ]
  },
  {
   "cell_type": "code",
   "execution_count": null,
   "id": "0d39aceb",
   "metadata": {},
   "outputs": [],
   "source": [
    "#메소드 사용해서 행과 열이름 변경 \n",
    "#df = pd.DataFrame([15,'남','신촌중'],[17,'여','연세중']\n",
    "#index = ['준서','예은'], colums =['나이','성별','학교'])\n",
    "#dr.rename(columns ={'나이':'연령','성별':'gender','학교':'school'})"
   ]
  },
  {
   "cell_type": "code",
   "execution_count": null,
   "id": "82252b4a",
   "metadata": {},
   "outputs": [],
   "source": [
    "data = {'국어':[80,90,70,30],'영어':[90,70,60,40],'수학':[90,60,80,70]}\n",
    "춘향, 몽룡, 향단, 방자"
   ]
  },
  {
   "cell_type": "code",
   "execution_count": null,
   "id": "04dec9af",
   "metadata": {},
   "outputs": [],
   "source": [
    "\n",
    "#numpy randomm.randint를 사용하여 60~100 tkdl 12r개 숫자를 만들고 reshape \n",
    "# index가 James, maria, brain, alic를 만들고\n",
    "#컬럼 이름은 kor, eng, math로 된 데이터 프레임을 생성하기 "
   ]
  },
  {
   "cell_type": "code",
   "execution_count": null,
   "id": "e2402d20",
   "metadata": {},
   "outputs": [],
   "source": [
    "import numpy as np\n",
    "np.random.randint (60,100,12).reshape(4,3)"
   ]
  },
  {
   "cell_type": "code",
   "execution_count": null,
   "id": "fca2af3a",
   "metadata": {
    "scrolled": false
   },
   "outputs": [],
   "source": [
    "#df['국어']['몽룡'] # 열 먼저 선택, 그 이후 인덱스 선택 "
   ]
  },
  {
   "cell_type": "code",
   "execution_count": null,
   "id": "64048198",
   "metadata": {},
   "outputs": [],
   "source": [
    "#import numpy as np\n",
    "#ap = (np.random.randint(60,100,12).reshape(4,3) ,index = ['James','maria','brian','alice'], columns = ['kor','eng','math'])\n",
    "#bp = pd.dataFrame(ap)\n",
    "#bp"
   ]
  },
  {
   "cell_type": "code",
   "execution_count": null,
   "id": "f668a96d",
   "metadata": {},
   "outputs": [],
   "source": [
    "#np.random.seed(2023)\n",
    "#df = pd.DataFrame(np.random.randint(60,100,12).reshape(4,3),index = ['James','maria','brian','alice'], cloumns = ['kor','eng','math'])"
   ]
  },
  {
   "cell_type": "code",
   "execution_count": null,
   "id": "9a712868",
   "metadata": {},
   "outputs": [],
   "source": [
    "%%writefile sample.csv\n",
    "c1, c2, c3\n",
    "1, 1.15, one\n",
    "2, 2.23, two\n",
    "3, 3.32, three"
   ]
  },
  {
   "cell_type": "code",
   "execution_count": null,
   "id": "020ec706",
   "metadata": {},
   "outputs": [],
   "source": [
    "df = pd.read_csv ('sample.csv')"
   ]
  },
  {
   "cell_type": "code",
   "execution_count": null,
   "id": "1354c530",
   "metadata": {},
   "outputs": [],
   "source": [
    "df2 = df[:]\n",
    "df2.drop(1,inplace=True)"
   ]
  },
  {
   "cell_type": "code",
   "execution_count": null,
   "id": "281fba58",
   "metadata": {},
   "outputs": [],
   "source": []
  }
 ],
 "metadata": {
  "kernelspec": {
   "display_name": "Python 3 (ipykernel)",
   "language": "python",
   "name": "python3"
  },
  "language_info": {
   "codemirror_mode": {
    "name": "ipython",
    "version": 3
   },
   "file_extension": ".py",
   "mimetype": "text/x-python",
   "name": "python",
   "nbconvert_exporter": "python",
   "pygments_lexer": "ipython3",
   "version": "3.8.7"
  }
 },
 "nbformat": 4,
 "nbformat_minor": 5
}
